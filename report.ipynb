{
 "cells": [
  {
   "cell_type": "code",
   "execution_count": 50,
   "metadata": {
    "collapsed": true
   },
   "outputs": [],
   "source": [
    "import re\n",
    "import json"
   ]
  },
  {
   "cell_type": "code",
   "execution_count": 51,
   "metadata": {
    "collapsed": false
   },
   "outputs": [],
   "source": [
    "with open(\"./short.txt\", 'r') as f:\n",
    "    text = f.read()"
   ]
  },
  {
   "cell_type": "code",
   "execution_count": 52,
   "metadata": {
    "collapsed": false,
    "scrolled": true
   },
   "outputs": [],
   "source": [
    "text = text.decode(\"utf8\")"
   ]
  },
  {
   "cell_type": "code",
   "execution_count": 68,
   "metadata": {
    "collapsed": true
   },
   "outputs": [],
   "source": [
    "l = re.findall(\"<\\w+>[^<]\", text)"
   ]
  },
  {
   "cell_type": "code",
   "execution_count": 69,
   "metadata": {
    "collapsed": false
   },
   "outputs": [
    {
     "data": {
      "text/plain": [
       "[u'<nonspecific>\\n',\n",
       " u'<liver>\\n',\n",
       " u'<GB>\\n',\n",
       " u'<pancreas>\\n',\n",
       " u'<spleen>\\n',\n",
       " u'<kidney>\\n',\n",
       " u'<goiter>\\n',\n",
       " u'<LN>\\n']"
      ]
     },
     "execution_count": 69,
     "metadata": {},
     "output_type": "execute_result"
    }
   ],
   "source": [
    "l"
   ]
  },
  {
   "cell_type": "code",
   "execution_count": 70,
   "metadata": {
    "collapsed": false,
    "scrolled": true
   },
   "outputs": [
    {
     "data": {
      "text/plain": [
       "[(u'S', u'sono of abdomen\\t\\tSAN\\t\\t'),\n",
       " (u'X', u'sono of liver, BD\\tLP'),\n",
       " (u'L', u'sono of liver\\t\\tLAN'),\n",
       " (u'CA', u'calcification'),\n",
       " (u'HP', u'hypoechoic nodule\\t\\t(<1cm \\u6642)'),\n",
       " (u'HPC', u'hypoechoic nodule  suggest CT\\t(>1cm \\u6642)'),\n",
       " (u'HPE', u'hyperechoic nodule'),\n",
       " (u'CH', u's/p cholecystectomy'),\n",
       " (u'PC', u's/p hepatectomy + cholecystectomy'),\n",
       " (u'PCS', u's/p hepatectomy + cholecystectomy + splenectomy'),\n",
       " (u'SPC', u'S/P Partial resection of liver and cholecystectomy'),\n",
       " (u'AS', u'ascites'),\n",
       " (u'PE', u'pleural effusion'),\n",
       " (u'PC', u'pericardial effusion'),\n",
       " (u'SCI', u'liver cirrhosis + splenomegaly'),\n",
       " (u'SCIA', u'liver cirrhosis + splenomegaly + ascites'),\n",
       " (u'SCIAE',\n",
       "  u'liver cirrhosis + splenomegaly + ascites + splenic vein enlargement(>14mm)'),\n",
       " (u'FL', u'fatty liver'),\n",
       " (u'LD', u'coarsening of liver'),\n",
       " (u'FLFS', u'fatty liver with focal sparing'),\n",
       " (u'FLFSG', u'fatty liver with focal sparing next to GB'),\n",
       " (u'FLFSL', u'fatty liver with focal sparing left lobe'),\n",
       " (u'LC', u'Liver cyst'),\n",
       " (u'LCs', u'multiple liver cyst'),\n",
       " (u'CBD', u'CBD dilatation'),\n",
       " (u'HE', u'hemangioma'),\n",
       " (u'AHE', u'atypical hemangioma'),\n",
       " (u'GW', u'GB wall thickening'),\n",
       " (u'PO', u'GB polyp'),\n",
       " (u'GS', u'gallstone'),\n",
       " (u'GSS', u'multiple gallstones'),\n",
       " (u'AD', u'adenomyomatosis of GB'),\n",
       " (u'SLU', u'sludge'),\n",
       " (u'CH', u's/p cholecystectomy'),\n",
       " (u'NG', u'Non-visualization of gall bladder'),\n",
       " (u'NFG', u'Small size of gallbladder due to nonfasting'),\n",
       " (u'PP', u'The pancreas is poor demonstration due to bowel gas.'),\n",
       " (u'SPLM', u'splenomegaly'),\n",
       " (u'PSP', u'Prominence of spleen'),\n",
       " (u'SPLX', u'splenectomy'),\n",
       " (u'ASP', u'ascessory spleen'),\n",
       " (u'SPLC', u'spleen cyst'),\n",
       " (u'SPLCA', u'spleen calcification'),\n",
       " (u'KE', u'Chronic renal disease'),\n",
       " (u'ER', u'end stage renal disease'),\n",
       " (u'RCS', u'renal cyst'),\n",
       " (u'RS', u'renal stone'),\n",
       " (u'RCA', u'renal calcification'),\n",
       " (u'HA', u'renal hamartoma'),\n",
       " (u'HA2', u'2 HA, one on each side'),\n",
       " (u'HYD', u'Mild hydronephrosis of * kidney'),\n",
       " (u'TR',\n",
       "  u'The transplanted kidney over right lower abdomen shows normal appearance.'),\n",
       " (u'TL',\n",
       "  u'The transplanted kidney over left lower abdomen shows normal appearance.'),\n",
       " (u'SGOI', u'heterogenous hypoechoic nodules'),\n",
       " (u'SGOIC', u'heterogenous hypoechoic nodules\\t+ cystic change'),\n",
       " (u'SGOICA', u'heterogenous hypoechoic nodules\\t+ calcification'),\n",
       " (u'SGOICC',\n",
       "  u'heterogenous hypoechoic nodules\\t+ cystic change + calcification'),\n",
       " (u'SLNB', u'benign lymphadenopathy')]"
      ]
     },
     "execution_count": 70,
     "metadata": {},
     "output_type": "execute_result"
    }
   ],
   "source": [
    "m = re.findall(r\"(\\w+)\\s+(.*)\", text)\n",
    "m"
   ]
  },
  {
   "cell_type": "code",
   "execution_count": 71,
   "metadata": {
    "collapsed": false,
    "scrolled": true
   },
   "outputs": [
    {
     "data": {
      "text/plain": [
       "[(u'S', u'sono of abdomen\\t\\tSAN\\t\\t'),\n",
       " (u'X', u'sono of liver, BD\\tLP'),\n",
       " (u'L', u'sono of liver\\t\\tLAN'),\n",
       " (u'CA', u'calcification'),\n",
       " (u'HP', u'hypoechoic nodule\\t\\t(<1cm \\u6642)'),\n",
       " (u'HPC', u'hypoechoic nodule  suggest CT\\t(>1cm \\u6642)'),\n",
       " (u'HPE', u'hyperechoic nodule'),\n",
       " (u'CH', u's/p cholecystectomy'),\n",
       " (u'PC', u's/p hepatectomy + cholecystectomy'),\n",
       " (u'PCS', u's/p hepatectomy + cholecystectomy + splenectomy'),\n",
       " (u'SPC', u'S/P Partial resection of liver and cholecystectomy'),\n",
       " (u'AS', u'ascites'),\n",
       " (u'PE', u'pleural effusion'),\n",
       " (u'PC', u'pericardial effusion'),\n",
       " (u'SCI', u'liver cirrhosis + splenomegaly'),\n",
       " (u'SCIA', u'liver cirrhosis + splenomegaly + ascites'),\n",
       " (u'SCIAE',\n",
       "  u'liver cirrhosis + splenomegaly + ascites + splenic vein enlargement(>14mm)'),\n",
       " (u'FL', u'fatty liver'),\n",
       " (u'LD', u'coarsening of liver'),\n",
       " (u'FLFS', u'fatty liver with focal sparing'),\n",
       " (u'FLFSG', u'fatty liver with focal sparing next to GB'),\n",
       " (u'FLFSL', u'fatty liver with focal sparing left lobe'),\n",
       " (u'LC', u'Liver cyst'),\n",
       " (u'LCs', u'multiple liver cyst'),\n",
       " (u'CBD', u'CBD dilatation'),\n",
       " (u'HE', u'hemangioma'),\n",
       " (u'AHE', u'atypical hemangioma'),\n",
       " (u'GW', u'GB wall thickening'),\n",
       " (u'PO', u'GB polyp'),\n",
       " (u'GS', u'gallstone'),\n",
       " (u'GSS', u'multiple gallstones'),\n",
       " (u'AD', u'adenomyomatosis of GB'),\n",
       " (u'SLU', u'sludge'),\n",
       " (u'CH', u's/p cholecystectomy'),\n",
       " (u'NG', u'Non-visualization of gall bladder'),\n",
       " (u'NFG', u'Small size of gallbladder due to nonfasting'),\n",
       " (u'PP', u'The pancreas is poor demonstration due to bowel gas.'),\n",
       " (u'SPLM', u'splenomegaly'),\n",
       " (u'PSP', u'Prominence of spleen'),\n",
       " (u'SPLX', u'splenectomy'),\n",
       " (u'ASP', u'ascessory spleen'),\n",
       " (u'SPLC', u'spleen cyst'),\n",
       " (u'SPLCA', u'spleen calcification'),\n",
       " (u'KE', u'Chronic renal disease'),\n",
       " (u'ER', u'end stage renal disease'),\n",
       " (u'RCS', u'renal cyst'),\n",
       " (u'RS', u'renal stone'),\n",
       " (u'RCA', u'renal calcification'),\n",
       " (u'HA', u'renal hamartoma'),\n",
       " (u'HA2', u'2 HA, one on each side'),\n",
       " (u'HYD', u'Mild hydronephrosis of * kidney'),\n",
       " (u'TR',\n",
       "  u'The transplanted kidney over right lower abdomen shows normal appearance.'),\n",
       " (u'TL',\n",
       "  u'The transplanted kidney over left lower abdomen shows normal appearance.'),\n",
       " (u'SGOI', u'heterogenous hypoechoic nodules'),\n",
       " (u'SGOIC', u'heterogenous hypoechoic nodules\\t+ cystic change'),\n",
       " (u'SGOICA', u'heterogenous hypoechoic nodules\\t+ calcification'),\n",
       " (u'SGOICC',\n",
       "  u'heterogenous hypoechoic nodules\\t+ cystic change + calcification'),\n",
       " (u'SLNB', u'benign lymphadenopathy')]"
      ]
     },
     "execution_count": 71,
     "metadata": {},
     "output_type": "execute_result"
    }
   ],
   "source": []
  },
  {
   "cell_type": "code",
   "execution_count": 73,
   "metadata": {
    "collapsed": false
   },
   "outputs": [],
   "source": [
    "d = {i[0]:i[1].strip() for i in m}"
   ]
  },
  {
   "cell_type": "code",
   "execution_count": 74,
   "metadata": {
    "collapsed": true
   },
   "outputs": [],
   "source": [
    "json.dump(d, open(\"./abbr.json\",\"w\"))"
   ]
  },
  {
   "cell_type": "code",
   "execution_count": 81,
   "metadata": {
    "collapsed": false
   },
   "outputs": [
    {
     "name": "stdout",
     "output_type": "stream",
     "text": [
      "<label><input type=\"checkbox\" value=\"S\" name=\"S\" organ=\"\">S:<span>sono of abdomen\t\tSAN\t\t</span><br>\n",
      "<label><input type=\"checkbox\" value=\"X\" name=\"X\" organ=\"\">X:<span>sono of liver, BD\tLP</span><br>\n",
      "<label><input type=\"checkbox\" value=\"L\" name=\"L\" organ=\"\">L:<span>sono of liver\t\tLAN</span><br>\n",
      "<label><input type=\"checkbox\" value=\"CA\" name=\"CA\" organ=\"\">CA:<span>calcification</span><br>\n",
      "<label><input type=\"checkbox\" value=\"HP\" name=\"HP\" organ=\"\">HP:<span>hypoechoic nodule\t\t(<1cm 時)</span><br>\n",
      "<label><input type=\"checkbox\" value=\"HPC\" name=\"HPC\" organ=\"\">HPC:<span>hypoechoic nodule  suggest CT\t(>1cm 時)</span><br>\n",
      "<label><input type=\"checkbox\" value=\"HPE\" name=\"HPE\" organ=\"\">HPE:<span>hyperechoic nodule</span><br>\n",
      "<label><input type=\"checkbox\" value=\"CH\" name=\"CH\" organ=\"\">CH:<span>s/p cholecystectomy</span><br>\n",
      "<label><input type=\"checkbox\" value=\"PC\" name=\"PC\" organ=\"\">PC:<span>s/p hepatectomy + cholecystectomy</span><br>\n",
      "<label><input type=\"checkbox\" value=\"PCS\" name=\"PCS\" organ=\"\">PCS:<span>s/p hepatectomy + cholecystectomy + splenectomy</span><br>\n",
      "<label><input type=\"checkbox\" value=\"SPC\" name=\"SPC\" organ=\"\">SPC:<span>S/P Partial resection of liver and cholecystectomy</span><br>\n",
      "<label><input type=\"checkbox\" value=\"AS\" name=\"AS\" organ=\"\">AS:<span>ascites</span><br>\n",
      "<label><input type=\"checkbox\" value=\"PE\" name=\"PE\" organ=\"\">PE:<span>pleural effusion</span><br>\n",
      "<label><input type=\"checkbox\" value=\"PC\" name=\"PC\" organ=\"\">PC:<span>pericardial effusion</span><br>\n",
      "<label><input type=\"checkbox\" value=\"SCI\" name=\"SCI\" organ=\"\">SCI:<span>liver cirrhosis + splenomegaly</span><br>\n",
      "<label><input type=\"checkbox\" value=\"SCIA\" name=\"SCIA\" organ=\"\">SCIA:<span>liver cirrhosis + splenomegaly + ascites</span><br>\n",
      "<label><input type=\"checkbox\" value=\"SCIAE\" name=\"SCIAE\" organ=\"\">SCIAE:<span>liver cirrhosis + splenomegaly + ascites + splenic vein enlargement(>14mm)</span><br>\n",
      "<label><input type=\"checkbox\" value=\"FL\" name=\"FL\" organ=\"\">FL:<span>fatty liver</span><br>\n",
      "<label><input type=\"checkbox\" value=\"LD\" name=\"LD\" organ=\"\">LD:<span>coarsening of liver</span><br>\n",
      "<label><input type=\"checkbox\" value=\"FLFS\" name=\"FLFS\" organ=\"\">FLFS:<span>fatty liver with focal sparing</span><br>\n",
      "<label><input type=\"checkbox\" value=\"FLFSG\" name=\"FLFSG\" organ=\"\">FLFSG:<span>fatty liver with focal sparing next to GB</span><br>\n",
      "<label><input type=\"checkbox\" value=\"FLFSL\" name=\"FLFSL\" organ=\"\">FLFSL:<span>fatty liver with focal sparing left lobe</span><br>\n",
      "<label><input type=\"checkbox\" value=\"LC\" name=\"LC\" organ=\"\">LC:<span>Liver cyst</span><br>\n",
      "<label><input type=\"checkbox\" value=\"LCs\" name=\"LCs\" organ=\"\">LCs:<span>multiple liver cyst</span><br>\n",
      "<label><input type=\"checkbox\" value=\"CBD\" name=\"CBD\" organ=\"\">CBD:<span>CBD dilatation</span><br>\n",
      "<label><input type=\"checkbox\" value=\"HE\" name=\"HE\" organ=\"\">HE:<span>hemangioma</span><br>\n",
      "<label><input type=\"checkbox\" value=\"AHE\" name=\"AHE\" organ=\"\">AHE:<span>atypical hemangioma</span><br>\n",
      "<label><input type=\"checkbox\" value=\"GW\" name=\"GW\" organ=\"\">GW:<span>GB wall thickening</span><br>\n",
      "<label><input type=\"checkbox\" value=\"PO\" name=\"PO\" organ=\"\">PO:<span>GB polyp</span><br>\n",
      "<label><input type=\"checkbox\" value=\"GS\" name=\"GS\" organ=\"\">GS:<span>gallstone</span><br>\n",
      "<label><input type=\"checkbox\" value=\"GSS\" name=\"GSS\" organ=\"\">GSS:<span>multiple gallstones</span><br>\n",
      "<label><input type=\"checkbox\" value=\"AD\" name=\"AD\" organ=\"\">AD:<span>adenomyomatosis of GB</span><br>\n",
      "<label><input type=\"checkbox\" value=\"SLU\" name=\"SLU\" organ=\"\">SLU:<span>sludge</span><br>\n",
      "<label><input type=\"checkbox\" value=\"CH\" name=\"CH\" organ=\"\">CH:<span>s/p cholecystectomy</span><br>\n",
      "<label><input type=\"checkbox\" value=\"NG\" name=\"NG\" organ=\"\">NG:<span>Non-visualization of gall bladder</span><br>\n",
      "<label><input type=\"checkbox\" value=\"NFG\" name=\"NFG\" organ=\"\">NFG:<span>Small size of gallbladder due to nonfasting</span><br>\n",
      "<label><input type=\"checkbox\" value=\"PP\" name=\"PP\" organ=\"\">PP:<span>The pancreas is poor demonstration due to bowel gas.</span><br>\n",
      "<label><input type=\"checkbox\" value=\"SPLM\" name=\"SPLM\" organ=\"\">SPLM:<span>splenomegaly</span><br>\n",
      "<label><input type=\"checkbox\" value=\"PSP\" name=\"PSP\" organ=\"\">PSP:<span>Prominence of spleen</span><br>\n",
      "<label><input type=\"checkbox\" value=\"SPLX\" name=\"SPLX\" organ=\"\">SPLX:<span>splenectomy</span><br>\n",
      "<label><input type=\"checkbox\" value=\"ASP\" name=\"ASP\" organ=\"\">ASP:<span>ascessory spleen</span><br>\n",
      "<label><input type=\"checkbox\" value=\"SPLC\" name=\"SPLC\" organ=\"\">SPLC:<span>spleen cyst</span><br>\n",
      "<label><input type=\"checkbox\" value=\"SPLCA\" name=\"SPLCA\" organ=\"\">SPLCA:<span>spleen calcification</span><br>\n",
      "<label><input type=\"checkbox\" value=\"KE\" name=\"KE\" organ=\"\">KE:<span>Chronic renal disease</span><br>\n",
      "<label><input type=\"checkbox\" value=\"ER\" name=\"ER\" organ=\"\">ER:<span>end stage renal disease</span><br>\n",
      "<label><input type=\"checkbox\" value=\"RCS\" name=\"RCS\" organ=\"\">RCS:<span>renal cyst</span><br>\n",
      "<label><input type=\"checkbox\" value=\"RS\" name=\"RS\" organ=\"\">RS:<span>renal stone</span><br>\n",
      "<label><input type=\"checkbox\" value=\"RCA\" name=\"RCA\" organ=\"\">RCA:<span>renal calcification</span><br>\n",
      "<label><input type=\"checkbox\" value=\"HA\" name=\"HA\" organ=\"\">HA:<span>renal hamartoma</span><br>\n",
      "<label><input type=\"checkbox\" value=\"HA2\" name=\"HA2\" organ=\"\">HA2:<span>2 HA, one on each side</span><br>\n",
      "<label><input type=\"checkbox\" value=\"HYD\" name=\"HYD\" organ=\"\">HYD:<span>Mild hydronephrosis of * kidney</span><br>\n",
      "<label><input type=\"checkbox\" value=\"TR\" name=\"TR\" organ=\"\">TR:<span>The transplanted kidney over right lower abdomen shows normal appearance.</span><br>\n",
      "<label><input type=\"checkbox\" value=\"TL\" name=\"TL\" organ=\"\">TL:<span>The transplanted kidney over left lower abdomen shows normal appearance.</span><br>\n",
      "<label><input type=\"checkbox\" value=\"SGOI\" name=\"SGOI\" organ=\"\">SGOI:<span>heterogenous hypoechoic nodules</span><br>\n",
      "<label><input type=\"checkbox\" value=\"SGOIC\" name=\"SGOIC\" organ=\"\">SGOIC:<span>heterogenous hypoechoic nodules\t+ cystic change</span><br>\n",
      "<label><input type=\"checkbox\" value=\"SGOICA\" name=\"SGOICA\" organ=\"\">SGOICA:<span>heterogenous hypoechoic nodules\t+ calcification</span><br>\n",
      "<label><input type=\"checkbox\" value=\"SGOICC\" name=\"SGOICC\" organ=\"\">SGOICC:<span>heterogenous hypoechoic nodules\t+ cystic change + calcification</span><br>\n",
      "<label><input type=\"checkbox\" value=\"SLNB\" name=\"SLNB\" organ=\"\">SLNB:<span>benign lymphadenopathy</span><br>\n"
     ]
    }
   ],
   "source": [
    "for k,v in m:\n",
    "    print u\"\"\"<label><input type=\"checkbox\" value=\"{k}\" name=\"{k}\" organ=\"\">{k}:<span>{v}</span><br>\"\"\".format(k=k, v=v)"
   ]
  },
  {
   "cell_type": "code",
   "execution_count": null,
   "metadata": {
    "collapsed": true
   },
   "outputs": [],
   "source": []
  }
 ],
 "metadata": {
  "kernelspec": {
   "display_name": "Python 2",
   "language": "python",
   "name": "python2"
  },
  "language_info": {
   "codemirror_mode": {
    "name": "ipython",
    "version": 2
   },
   "file_extension": ".py",
   "mimetype": "text/x-python",
   "name": "python",
   "nbconvert_exporter": "python",
   "pygments_lexer": "ipython2",
   "version": "2.7.11"
  }
 },
 "nbformat": 4,
 "nbformat_minor": 0
}
